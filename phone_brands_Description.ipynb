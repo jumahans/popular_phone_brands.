{
 "cells": [
  {
   "cell_type": "code",
   "execution_count": 9,
   "metadata": {},
   "outputs": [],
   "source": [
    "import pandas as pd \n",
    "import numpy as np \n",
    "import matplotlib.pyplot  as plt \n",
    "from random import *\n",
    "import random as rd \n",
    "import csv\n",
    "from collections import Counter as ct "
   ]
  },
  {
   "cell_type": "code",
   "execution_count": 10,
   "metadata": {},
   "outputs": [
    {
     "data": {
      "text/plain": [
       "['Products', 'Descriptions', 'Merchants']"
      ]
     },
     "execution_count": 10,
     "metadata": {},
     "output_type": "execute_result"
    }
   ],
   "source": [
    "#exploring the sheets in the file\n",
    "xl = pd.ExcelFile('C:\\\\Users\\\\Pc\\\\OneDrive\\\\Desktop\\\\jupiter_projects\\\\products.xlsx')\n",
    "xl.sheet_names"
   ]
  },
  {
   "cell_type": "code",
   "execution_count": 11,
   "metadata": {},
   "outputs": [],
   "source": [
    "#parsing the sheets into pandas data frame.\n",
    "xl1 = xl.parse('Products')\n",
    "xl2 = xl.parse('Descriptions')\n",
    "xl3 = xl.parse('Merchants')"
   ]
  },
  {
   "cell_type": "code",
   "execution_count": 12,
   "metadata": {},
   "outputs": [
    {
     "data": {
      "text/plain": [
       "Index(['product_id', 'price', 'merchant_id', 'brand', 'name'], dtype='object')"
      ]
     },
     "execution_count": 12,
     "metadata": {},
     "output_type": "execute_result"
    }
   ],
   "source": [
    "#exploring the first sheet\n",
    "xl1.columns"
   ]
  },
  {
   "cell_type": "code",
   "execution_count": 13,
   "metadata": {},
   "outputs": [
    {
     "data": {
      "text/html": [
       "<div>\n",
       "<style scoped>\n",
       "    .dataframe tbody tr th:only-of-type {\n",
       "        vertical-align: middle;\n",
       "    }\n",
       "\n",
       "    .dataframe tbody tr th {\n",
       "        vertical-align: top;\n",
       "    }\n",
       "\n",
       "    .dataframe thead th {\n",
       "        text-align: right;\n",
       "    }\n",
       "</style>\n",
       "<table border=\"1\" class=\"dataframe\">\n",
       "  <thead>\n",
       "    <tr style=\"text-align: right;\">\n",
       "      <th></th>\n",
       "      <th>product_id</th>\n",
       "      <th>price</th>\n",
       "      <th>merchant_id</th>\n",
       "      <th>brand</th>\n",
       "      <th>name</th>\n",
       "    </tr>\n",
       "  </thead>\n",
       "  <tbody>\n",
       "    <tr>\n",
       "      <th>0</th>\n",
       "      <td>AVphzgbJLJeJML43fA0o</td>\n",
       "      <td>104.99</td>\n",
       "      <td>1001</td>\n",
       "      <td>Sanus</td>\n",
       "      <td>Sanus VLF410B1 10-Inch Super Slim Full-Motion ...</td>\n",
       "    </tr>\n",
       "    <tr>\n",
       "      <th>1</th>\n",
       "      <td>AVpgMuGwLJeJML43KY_c</td>\n",
       "      <td>69.00</td>\n",
       "      <td>1002</td>\n",
       "      <td>Boytone</td>\n",
       "      <td>Boytone - 2500W 2.1-Ch. Home Theater System - ...</td>\n",
       "    </tr>\n",
       "    <tr>\n",
       "      <th>2</th>\n",
       "      <td>AVpe9FXeLJeJML43zHrq</td>\n",
       "      <td>23.99</td>\n",
       "      <td>1001</td>\n",
       "      <td>DENAQ</td>\n",
       "      <td>DENAQ - AC Adapter for TOSHIBA SATELLITE</td>\n",
       "    </tr>\n",
       "    <tr>\n",
       "      <th>3</th>\n",
       "      <td>AVpfVJXu1cnluZ0-iwTT</td>\n",
       "      <td>290.99</td>\n",
       "      <td>1001</td>\n",
       "      <td>DreamWave</td>\n",
       "      <td>DreamWave - Tremor Portable Bluetooth Speaker ...</td>\n",
       "    </tr>\n",
       "    <tr>\n",
       "      <th>4</th>\n",
       "      <td>AVphUeKeilAPnD_x3-Be</td>\n",
       "      <td>244.01</td>\n",
       "      <td>1004</td>\n",
       "      <td>Yamaha</td>\n",
       "      <td>NS-SP1800BL 5.1-Channel Home Theater System (B...</td>\n",
       "    </tr>\n",
       "  </tbody>\n",
       "</table>\n",
       "</div>"
      ],
      "text/plain": [
       "             product_id   price  merchant_id      brand  \\\n",
       "0  AVphzgbJLJeJML43fA0o  104.99         1001      Sanus   \n",
       "1  AVpgMuGwLJeJML43KY_c   69.00         1002    Boytone   \n",
       "2  AVpe9FXeLJeJML43zHrq   23.99         1001      DENAQ   \n",
       "3  AVpfVJXu1cnluZ0-iwTT  290.99         1001  DreamWave   \n",
       "4  AVphUeKeilAPnD_x3-Be  244.01         1004     Yamaha   \n",
       "\n",
       "                                                name  \n",
       "0  Sanus VLF410B1 10-Inch Super Slim Full-Motion ...  \n",
       "1  Boytone - 2500W 2.1-Ch. Home Theater System - ...  \n",
       "2           DENAQ - AC Adapter for TOSHIBA SATELLITE  \n",
       "3  DreamWave - Tremor Portable Bluetooth Speaker ...  \n",
       "4  NS-SP1800BL 5.1-Channel Home Theater System (B...  "
      ]
     },
     "execution_count": 13,
     "metadata": {},
     "output_type": "execute_result"
    }
   ],
   "source": [
    "xl1.head()"
   ]
  },
  {
   "cell_type": "code",
   "execution_count": 14,
   "metadata": {},
   "outputs": [
    {
     "name": "stdout",
     "output_type": "stream",
     "text": [
      "product_id-0\n",
      "price-0\n",
      "merchant_id-0\n",
      "brand-0\n",
      "name-0\n"
     ]
    }
   ],
   "source": [
    "#checking for null values \n",
    "for nulls in xl1.columns:\n",
    "    missing = np.sum(xl1[nulls].isnull())\n",
    "    print('{}-{}'.format(nulls, missing))"
   ]
  },
  {
   "cell_type": "code",
   "execution_count": 15,
   "metadata": {},
   "outputs": [
    {
     "name": "stdout",
     "output_type": "stream",
     "text": [
      "Counter({'Sony': 101, 'Samsung': 77, 'Apple': 55, 'Yamaha': 47, 'Logitech': 28, 'Pioneer': 24, 'SanDisk': 19, 'CORSAIR': 18, 'JBL': 16, 'Corsair': 15, 'Sennheiser': 15, 'WD': 14, 'Alpine': 14, 'Kenwood': 14, 'Razer': 14, 'AudioQuest': 13, 'LG': 13, 'Definitive Technology': 12, 'Denon': 11, 'Canon': 11, 'Netgear': 11, 'Microsoft': 10, 'Lenovo': 10, 'Elite Screens': 10, 'Kicker': 10, 'Klipsch': 10, 'Seagate': 10, 'Lowepro': 9, 'Onkyo': 9, 'SunBriteTV': 9, 'Bose': 8, 'SVS': 8, 'House of Marley': 8, 'Marantz': 8, 'Toshiba': 8, 'Dell': 8, 'Asus': 8, 'DENAQ': 7, 'Panamax': 7, 'Polk Audio': 7, 'Russound': 7, 'Bose¬Æ': 7, 'Nikon': 7, 'Sanus': 6, 'Kanto Living': 6, 'Power Acoustik': 6, 'ASUS': 6, 'MartinLogan': 6, 'TP-Link': 6, 'ECOXGEAR': 6, 'Garmin': 6, 'PNY': 6, 'Peerless-AV': 5, 'Sandisk': 5, 'Sharp': 5, 'Panasonic': 5, 'Acer': 5, 'SOL REPUBLIC': 5, 'V-MODA': 5, 'Escort': 5, 'Western Digital': 5, 'Bower': 5, 'MEE audio': 4, 'Ultimate Ears': 4, 'Niles': 4, 'Hisense': 4, 'Pny': 4, 'Alienware': 4, 'TiVo': 4, 'Jbl': 4, 'Grace Digital': 4, 'Monster': 4, 'ViewSonic': 4, 'NETGEAR': 4, 'HP': 4, 'Pyle Pro': 4, 'Wacom': 4, 'Epson': 4, 'mophie': 4, 'NZXT': 4, 'VIZIO': 4, 'Braven': 4, 'Pyle': 4, 'Westone': 4, 'Sonos': 4, 'Peak Design': 3, 'Chief': 3, 'Siriusxm': 3, 'Olympus': 3, 'Master Dynamic': 3, 'MSI': 3, 'StarTech': 3, 'Kanto': 3, 'XFX': 3, 'IOGEAR': 3, 'G-Technology': 3, 'Actiontec': 3, 'Manfrotto': 3, 'GoPro': 3, 'Insignia': 3, 'Arris': 3, 'Insignia‚Ñ¢': 3, 'Joby': 3, 'Spartan': 3, 'Linksys': 3, 'V-Moda': 3, 'Evga': 3, 'Boytone': 2, 'Motorola': 2, 'SpeakerCraft': 2, 'Peerless': 2, 'JVC': 2, 'iSimple': 2, 'Turtle Beach': 2, 'MTX': 2, 'Skullcandy': 2, 'Belkin': 2, 'House Of Marley': 2, 'Sima': 2, 'AfterShokz': 2, 'Rand McNally': 2, 'ZTE': 2, 'Cerwin Vega': 2, 'Goal Zero': 2, 'AOC': 2, 'Atrend': 2, 'Tenba': 2, 'Sigma': 2, 'Sonax': 2, 'Cerwin-Vega': 2, 'Hauppauge': 2, 'Thule': 2, 'Steelseries': 2, 'Dual': 2, 'Silicondust': 2, 'Zoom': 2, 'NVIDIA': 2, 'Zmodo': 2, 'Tivo': 2, 'Sylvania': 2, 'Master & Dynamic': 2, 'Cooler Master': 2, 'PYLE': 2, 'Kingston': 2, 'BIC America': 2, 'Optoma': 2, 'Speck': 2, 'OmniMount': 2, 'Isimple': 2, 'SANUS': 2, 'D-Link': 2, 'LifeProof': 2, 'FUGOO': 2, 'iLive': 2, 'SiriusXM': 2, 'Sherwood': 2, 'BenQ': 2, 'Thermaltake': 2, 'Lg': 2, 'Amazon': 2, 'Fujifilm': 2, 'DreamWave': 1, 'Universal Remote Control': 1, 'Outdoor Tech': 1, 'Transcend': 1, 'Sdi Technologies, Inc.': 1, 'Midland': 1, 'Sling Media': 1, 'Novatel': 1, 'VINPOWER DIGITAL DIRECTSHIP': 1, 'PELICAN': 1, 'Hoya': 1, 'Digipower': 1, 'Innovative Technology': 1, 'CLARITY-TELECOM': 1, 'Belkin Inc.': 1, 'KEF': 1, 'Zubie': 1, 'PANAMX': 1, 'Tp-Link': 1, 'Fitbit': 1, 'Planet Audio': 1, 'CybertronPC': 1, 'Aiwa': 1, 'DENON - HEOS': 1, 'MTX Audio': 1, 'SKB': 1, 'Motorola Home': 1, 'Polaroid': 1, 'Case Logic': 1, 'Memorex': 1, 'Antec': 1, 'Bowers & Wilkins': 1, 'GEKO': 1, 'Virgin Mobile': 1, 'Viper': 1, 'Leef': 1, 'kate spade new york': 1, 'VXi': 1, 'j5create': 1, 'RODE': 1, 'Audioquest': 1, 'Incipio': 1, 'StarTech.com': 1, 'Aftershokz': 1, 'Mee Audio': 1, 'Jensen': 1, 'Sol Republic': 1, 'Visidec': 1, 'ZAGG': 1, 'Anker': 1, 'Retrak': 1, 'Intel': 1, 'KICKER': 1, 'Victrola': 1, 'Aluratek': 1, 'Kensington': 1, 'Secur': 1, 'Sound Design': 1, 'VisionTek': 1, 'Papago': 1, 'Mevo': 1, 'Sideclick': 1, 'X6D': 1, 'Sunpak': 1, 'Diamond Multimedia': 1, 'Jvcm': 1, 'TCL': 1, 'Jaybird': 1, 'Lorex': 1, 'Jabra': 1, 'Pro-Ject': 1, 'PreSonus': 1, 'I.am+': 1, 'Crosley': 1, 'PyleHome': 1, 'Cobra Electronics': 1, 'Sabrent': 1, 'Klipsch Xr8i In-Ear Headphones': 1, 'Buffalo': 1, 'ECO STYLE': 1, 'Energizer': 1, 'Google': 1, 'Tiffen': 1, 'Fusion Marine': 1, 'Sengled': 1, 'ONLINE': 1, 'Urban Armor Gear': 1, 'Buffalo Technology': 1, 'HyperX': 1, 'BOYO': 1, 'Beats': 1, '360fly': 1, 'RCA': 1, 'Ghostek': 1, 'Cobra': 1, 'SHARKK': 1, 'Sonic Alert': 1, 'M-Audio': 1, 'Skybell': 1, 'Incase': 1, 'Ricoh': 1, 'iHome': 1, 'Twelve South': 1, 'OGIO': 1, 'Mohu': 1, 'Pelican': 1, 'Jvc': 1, 'VIZIO, INC': 1, 'Tablo': 1, 'Gopro': 1, 'Audiovox': 1, 'Canary': 1, 'Tomtom': 1, 'Att': 1, 'Cujo': 1, 'Targus': 1, 'Solo': 1, 'Blue Microphones': 1, 'Harman Kardon': 1, 'Monument Labs': 1, 'Thecus': 1, 'Metra': 1, 'Vizio': 1, 'myCharge': 1, 'Rode': 1, 'Gemini': 1, 'SunbriteTV': 1, 'TEAC': 1, 'iOttie': 1, 'Zivix': 1, 'HMDX': 1, 'Canvio': 1, 'Rocketfish‚Ñ¢': 1, 'Crane': 1, 'Ginsu': 1, 'Pro-Ject Audio Systems': 1, 'Philips': 1, 'Amd': 1, 'Westinghouse': 1, 'Audio-Technica': 1, 'Soundcast': 1, 'Denaq': 1, ': Polk Audio': 1, 'EVGA': 1, 'Otterbox': 1, 'Flexson': 1, 'Magellan': 1, 'naxa': 1})\n"
     ]
    }
   ],
   "source": [
    "#craeting a counter for the popular phone brand\n",
    "phone_counter = ct(xl1['brand'])\n",
    "print(phone_counter)"
   ]
  },
  {
   "cell_type": "code",
   "execution_count": 16,
   "metadata": {},
   "outputs": [
    {
     "data": {
      "text/plain": [
       "[('Sony', 101),\n",
       " ('Samsung', 77),\n",
       " ('Apple', 55),\n",
       " ('Yamaha', 47),\n",
       " ('Logitech', 28),\n",
       " ('Pioneer', 24),\n",
       " ('SanDisk', 19),\n",
       " ('CORSAIR', 18),\n",
       " ('JBL', 16),\n",
       " ('Corsair', 15),\n",
       " ('Sennheiser', 15),\n",
       " ('WD', 14),\n",
       " ('Alpine', 14),\n",
       " ('Kenwood', 14),\n",
       " ('Razer', 14)]"
      ]
     },
     "execution_count": 16,
     "metadata": {},
     "output_type": "execute_result"
    }
   ],
   "source": [
    "#most common phone brands\n",
    "phone_counter.most_common(15)"
   ]
  },
  {
   "cell_type": "code",
   "execution_count": 17,
   "metadata": {},
   "outputs": [
    {
     "name": "stdout",
     "output_type": "stream",
     "text": [
      "['Canon', 'Denon', 'Definitive Technology', 'LG', 'AudioQuest', 'Razer', 'Kenwood', 'Alpine', 'WD', 'Sennheiser', 'Corsair', 'JBL', 'CORSAIR', 'SanDisk', 'Pioneer', 'Logitech', 'Yamaha', 'Apple', 'Samsung', 'Sony']\n",
      "[11, 11, 12, 13, 13, 14, 14, 14, 14, 15, 15, 16, 18, 19, 24, 28, 47, 55, 77, 101]\n"
     ]
    }
   ],
   "source": [
    "#creating list of the phone brand and the popuraritu of the phone.\n",
    "phone_brand = []\n",
    "popularity = []\n",
    "\n",
    "phone = phone_counter.most_common(20)\n",
    "for items in phone:\n",
    "    phone_brand.append(items[0])\n",
    "    popularity.append(items[1])\n",
    "\n",
    "phone_brand.reverse()\n",
    "popularity.reverse()\n",
    "print(phone_brand)\n",
    "print(popularity)"
   ]
  },
  {
   "cell_type": "code",
   "execution_count": 18,
   "metadata": {},
   "outputs": [
    {
     "data": {
      "image/png": "[encoded data removed]",
      "text/plain": [
       "<Figure size 640x480 with 1 Axes>"
      ]
     },
     "metadata": {},
     "output_type": "display_data"
    }
   ],
   "source": [
    "#creating a bar plot of the 15 most popular phone\n",
    "plt.style.use('fivethirtyeight')\n",
    "plt.rcParams['font.size'] = 8\n",
    "plt.barh(phone_brand, popularity, color ='green', label = 'brand_popularuty')\n",
    "plt.title('Brand popularity')\n",
    "plt.ylabel('Brand')\n",
    "plt.xlabel('Users')\n",
    "plt.grid(True)\n",
    "plt.legend()\n",
    "plt.show()"
   ]
  },
  {
   "cell_type": "code",
   "execution_count": 19,
   "metadata": {},
   "outputs": [
    {
     "data": {
      "text/plain": [
       "Index(['product_id', 'description'], dtype='object')"
      ]
     },
     "execution_count": 19,
     "metadata": {},
     "output_type": "execute_result"
    }
   ],
   "source": [
    "#exploring the second sheet\n",
    "xl2.columns"
   ]
  },
  {
   "cell_type": "code",
   "execution_count": 20,
   "metadata": {},
   "outputs": [
    {
     "data": {
      "text/html": [
       "<div>\n",
       "<style scoped>\n",
       "    .dataframe tbody tr th:only-of-type {\n",
       "        vertical-align: middle;\n",
       "    }\n",
       "\n",
       "    .dataframe tbody tr th {\n",
       "        vertical-align: top;\n",
       "    }\n",
       "\n",
       "    .dataframe thead th {\n",
       "        text-align: right;\n",
       "    }\n",
       "</style>\n",
       "<table border=\"1\" class=\"dataframe\">\n",
       "  <thead>\n",
       "    <tr style=\"text-align: right;\">\n",
       "      <th></th>\n",
       "      <th>product_id</th>\n",
       "      <th>description</th>\n",
       "    </tr>\n",
       "  </thead>\n",
       "  <tbody>\n",
       "    <tr>\n",
       "      <th>0</th>\n",
       "      <td>AVphzgbJLJeJML43fA0o</td>\n",
       "      <td>Audio &amp; Video Accessories,TV Mounts,TV Accesso...</td>\n",
       "    </tr>\n",
       "    <tr>\n",
       "      <th>1</th>\n",
       "      <td>AVpgMuGwLJeJML43KY_c</td>\n",
       "      <td>Stereos,Portable Bluetooth Speakers,TV, Video ...</td>\n",
       "    </tr>\n",
       "    <tr>\n",
       "      <th>2</th>\n",
       "      <td>AVpe9FXeLJeJML43zHrq</td>\n",
       "      <td>Computers,Office,Computer Accessories,Computer...</td>\n",
       "    </tr>\n",
       "    <tr>\n",
       "      <th>3</th>\n",
       "      <td>AVpfVJXu1cnluZ0-iwTT</td>\n",
       "      <td>Portable Bluetooth Speakers,Bluetooth &amp; Wirele...</td>\n",
       "    </tr>\n",
       "    <tr>\n",
       "      <th>4</th>\n",
       "      <td>AVphUeKeilAPnD_x3-Be</td>\n",
       "      <td>Surround Speakers,Electronics Features,Surroun...</td>\n",
       "    </tr>\n",
       "    <tr>\n",
       "      <th>...</th>\n",
       "      <td>...</td>\n",
       "      <td>...</td>\n",
       "    </tr>\n",
       "    <tr>\n",
       "      <th>1240</th>\n",
       "      <td>AVphFybdLJeJML43Wnza</td>\n",
       "      <td>Auto &amp; Tires,Auto Electronics,Car Speakers and...</td>\n",
       "    </tr>\n",
       "    <tr>\n",
       "      <th>1241</th>\n",
       "      <td>AVpe_qIa1cnluZ0-bjrN</td>\n",
       "      <td>Electronics,Computers,Laptops,Shop Laptops by ...</td>\n",
       "    </tr>\n",
       "    <tr>\n",
       "      <th>1242</th>\n",
       "      <td>AVphibxI1cnluZ0-DpxG</td>\n",
       "      <td>Electronics,GPS &amp; Navigation,Vehicle GPS,Auto ...</td>\n",
       "    </tr>\n",
       "    <tr>\n",
       "      <th>1243</th>\n",
       "      <td>AVpgrtW3ilAPnD_xv67M</td>\n",
       "      <td>Pro Audio,Sound Reinforcement Mixers,TV, Video...</td>\n",
       "    </tr>\n",
       "    <tr>\n",
       "      <th>1244</th>\n",
       "      <td>AVpgibRDLJeJML43PTZX</td>\n",
       "      <td>TVs &amp; Electronics,Computers,Home Theater &amp; Aud...</td>\n",
       "    </tr>\n",
       "  </tbody>\n",
       "</table>\n",
       "<p>1245 rows × 2 columns</p>\n",
       "</div>"
      ],
      "text/plain": [
       "                product_id                                        description\n",
       "0     AVphzgbJLJeJML43fA0o  Audio & Video Accessories,TV Mounts,TV Accesso...\n",
       "1     AVpgMuGwLJeJML43KY_c  Stereos,Portable Bluetooth Speakers,TV, Video ...\n",
       "2     AVpe9FXeLJeJML43zHrq  Computers,Office,Computer Accessories,Computer...\n",
       "3     AVpfVJXu1cnluZ0-iwTT  Portable Bluetooth Speakers,Bluetooth & Wirele...\n",
       "4     AVphUeKeilAPnD_x3-Be  Surround Speakers,Electronics Features,Surroun...\n",
       "...                    ...                                                ...\n",
       "1240  AVphFybdLJeJML43Wnza  Auto & Tires,Auto Electronics,Car Speakers and...\n",
       "1241  AVpe_qIa1cnluZ0-bjrN  Electronics,Computers,Laptops,Shop Laptops by ...\n",
       "1242  AVphibxI1cnluZ0-DpxG  Electronics,GPS & Navigation,Vehicle GPS,Auto ...\n",
       "1243  AVpgrtW3ilAPnD_xv67M  Pro Audio,Sound Reinforcement Mixers,TV, Video...\n",
       "1244  AVpgibRDLJeJML43PTZX  TVs & Electronics,Computers,Home Theater & Aud...\n",
       "\n",
       "[1245 rows x 2 columns]"
      ]
     },
     "execution_count": 20,
     "metadata": {},
     "output_type": "execute_result"
    }
   ],
   "source": [
    "xl2"
   ]
  },
  {
   "cell_type": "code",
   "execution_count": 21,
   "metadata": {},
   "outputs": [
    {
     "name": "stdout",
     "output_type": "stream",
     "text": [
      "product_id-0\n",
      "description-0\n"
     ]
    }
   ],
   "source": [
    "#checking null valeue in the file\n",
    "for nulls in xl2.columns:\n",
    "    missing = np.sum(xl2[nulls].isnull())\n",
    "    print('{}-{}'.format(nulls, missing))"
   ]
  },
  {
   "cell_type": "code",
   "execution_count": 22,
   "metadata": {},
   "outputs": [
    {
     "data": {
      "text/plain": [
       "<bound method Series.unique of 0       AVphzgbJLJeJML43fA0o\n",
       "1       AVpgMuGwLJeJML43KY_c\n",
       "2       AVpe9FXeLJeJML43zHrq\n",
       "3       AVpfVJXu1cnluZ0-iwTT\n",
       "4       AVphUeKeilAPnD_x3-Be\n",
       "                ...         \n",
       "1240    AVphFybdLJeJML43Wnza\n",
       "1241    AVpe_qIa1cnluZ0-bjrN\n",
       "1242    AVphibxI1cnluZ0-DpxG\n",
       "1243    AVpgrtW3ilAPnD_xv67M\n",
       "1244    AVpgibRDLJeJML43PTZX\n",
       "Name: product_id, Length: 1245, dtype: object>"
      ]
     },
     "execution_count": 22,
     "metadata": {},
     "output_type": "execute_result"
    }
   ],
   "source": [
    "#checkimg for unique values.\n",
    "xl2['product_id'].unique"
   ]
  },
  {
   "cell_type": "code",
   "execution_count": 23,
   "metadata": {},
   "outputs": [
    {
     "data": {
      "text/plain": [
       "Index(['merchant_id', 'merchant'], dtype='object')"
      ]
     },
     "execution_count": 23,
     "metadata": {},
     "output_type": "execute_result"
    }
   ],
   "source": [
    "#exploring the htird sheet.\n",
    "xl3.columns"
   ]
  },
  {
   "cell_type": "code",
   "execution_count": 24,
   "metadata": {},
   "outputs": [
    {
     "data": {
      "text/html": [
       "<div>\n",
       "<style scoped>\n",
       "    .dataframe tbody tr th:only-of-type {\n",
       "        vertical-align: middle;\n",
       "    }\n",
       "\n",
       "    .dataframe tbody tr th {\n",
       "        vertical-align: top;\n",
       "    }\n",
       "\n",
       "    .dataframe thead th {\n",
       "        text-align: right;\n",
       "    }\n",
       "</style>\n",
       "<table border=\"1\" class=\"dataframe\">\n",
       "  <thead>\n",
       "    <tr style=\"text-align: right;\">\n",
       "      <th></th>\n",
       "      <th>merchant_id</th>\n",
       "      <th>merchant</th>\n",
       "    </tr>\n",
       "  </thead>\n",
       "  <tbody>\n",
       "    <tr>\n",
       "      <th>0</th>\n",
       "      <td>1001</td>\n",
       "      <td>Bestbuy.com</td>\n",
       "    </tr>\n",
       "    <tr>\n",
       "      <th>1</th>\n",
       "      <td>1002</td>\n",
       "      <td>Walmart.com</td>\n",
       "    </tr>\n",
       "    <tr>\n",
       "      <th>2</th>\n",
       "      <td>1003</td>\n",
       "      <td>Bestbuy.com</td>\n",
       "    </tr>\n",
       "    <tr>\n",
       "      <th>3</th>\n",
       "      <td>1004</td>\n",
       "      <td>Growkart</td>\n",
       "    </tr>\n",
       "    <tr>\n",
       "      <th>4</th>\n",
       "      <td>1005</td>\n",
       "      <td>bhphotovideo.com</td>\n",
       "    </tr>\n",
       "    <tr>\n",
       "      <th>...</th>\n",
       "      <td>...</td>\n",
       "      <td>...</td>\n",
       "    </tr>\n",
       "    <tr>\n",
       "      <th>235</th>\n",
       "      <td>1236</td>\n",
       "      <td>PRIMESELLER</td>\n",
       "    </tr>\n",
       "    <tr>\n",
       "      <th>236</th>\n",
       "      <td>1237</td>\n",
       "      <td>Spy Tec</td>\n",
       "    </tr>\n",
       "    <tr>\n",
       "      <th>237</th>\n",
       "      <td>1238</td>\n",
       "      <td>Action Gear</td>\n",
       "    </tr>\n",
       "    <tr>\n",
       "      <th>238</th>\n",
       "      <td>1239</td>\n",
       "      <td>Overstock.com</td>\n",
       "    </tr>\n",
       "    <tr>\n",
       "      <th>239</th>\n",
       "      <td>1240</td>\n",
       "      <td>unknown</td>\n",
       "    </tr>\n",
       "  </tbody>\n",
       "</table>\n",
       "<p>240 rows × 2 columns</p>\n",
       "</div>"
      ],
      "text/plain": [
       "     merchant_id          merchant\n",
       "0           1001       Bestbuy.com\n",
       "1           1002       Walmart.com\n",
       "2           1003       Bestbuy.com\n",
       "3           1004          Growkart\n",
       "4           1005  bhphotovideo.com\n",
       "..           ...               ...\n",
       "235         1236       PRIMESELLER\n",
       "236         1237           Spy Tec\n",
       "237         1238       Action Gear\n",
       "238         1239     Overstock.com\n",
       "239         1240           unknown\n",
       "\n",
       "[240 rows x 2 columns]"
      ]
     },
     "execution_count": 24,
     "metadata": {},
     "output_type": "execute_result"
    }
   ],
   "source": [
    "xl3"
   ]
  },
  {
   "cell_type": "code",
   "execution_count": 25,
   "metadata": {},
   "outputs": [
    {
     "name": "stdout",
     "output_type": "stream",
     "text": [
      "merchant_id-0 missing values\n",
      "merchant-0 missing values\n"
     ]
    }
   ],
   "source": [
    "#checking for null values\n",
    "for nulls in xl3.columns:\n",
    "    missing = np.sum(xl3[nulls].isnull())\n",
    "    print('{}-{} missing values'.format(nulls, missing))"
   ]
  },
  {
   "cell_type": "code",
   "execution_count": 26,
   "metadata": {},
   "outputs": [],
   "source": [
    "#saving our three data frames into one excel file.\n",
    "#And set our rows to sart at cell 1 and columns to start at cel2\n",
    "new_file = pd.ExcelWriter('project_file.xlsx')\n",
    "with new_file:\n",
    "    xl1.to_excel(new_file, \n",
    "                 sheet_name='Products',\n",
    "                 startrow=1,\n",
    "                 startcol=2)\n",
    "    xl2.to_excel(new_file,\n",
    "                sheet_name = 'Descriptions',\n",
    "                startrow=1,\n",
    "                startcol=2)\n",
    "    xl3.to_excel(new_file,\n",
    "                 sheet_name='Merchants',\n",
    "                 startrow=1,\n",
    "                 startcol=2)"
   ]
  }
 ],
 "metadata": {
  "kernelspec": {
   "display_name": "jp_df",
   "language": "python",
   "name": "python3"
  },
  "language_info": {
   "codemirror_mode": {
    "name": "ipython",
    "version": 3
   },
   "file_extension": ".py",
   "mimetype": "text/x-python",
   "name": "python",
   "nbconvert_exporter": "python",
   "pygments_lexer": "ipython3",
   "version": "3.12.0"
  }
 },
 "nbformat": 4,
 "nbformat_minor": 2
}
